{
 "cells": [
  {
   "cell_type": "markdown",
   "metadata": {},
   "source": [
    "<center>\n",
    "<p><img src=\"https://mcd.unison.mx/wp-content/themes/awaken/img/logo_mcd.png\" width=\"150\">\n",
    "</p>\n",
    "    \n",
    "<h3>Curso Ingeniería de Características</h3>\n",
    "\n",
    "<h2>Proyecto 1: Desarrollo historia a contar </h2>\n",
    "\n",
    "<h4> Alumna: Diana Laura Ballesteros Valenzuela</h4>\n",
    "\n",
    "<p>\n",
    "<img src=\"https://identidadbuho.unison.mx/wp-content/uploads/2019/06/letragrama-cmyk-72.jpg\" width=\"150\">\n",
    "</p>\n",
    "    \n",
    "</center>"
   ]
  },
  {
   "cell_type": "markdown",
   "metadata": {},
   "source": [
    "Sonora ultimamente ha dado de que hablar con el descubrimiento de minas muy importantes, que va ocasionar el desarrollo del estado asi como posicionarlo en la mira. \n",
    "\n",
    "Con este dashboard, planeo informar con el desarrollo economico de varios sectores que ha tenido el estado a nivel municipal, ¿ha aumentado? ¿disminuido? ¿hace 10 años no habia tal sector y ahorita creció X veces?, esa y muchas otras preguntas son las que me surgieron al escuchar los temas economicos del estado en las noticias y platicando con otras personas. \n",
    "\n",
    "Tambien, pienso analizar si tiene alguna relacion la cantidad de población con el desarrollo económico, creo que podriamos sacar buenas preguntas de visualizar ese tipo de informacion y por supuesto, crear otras vertientes...\n",
    "-¿La poblacion en cierto municipio crece conforme su desarrollo eoconomico?, ¿la disminucion de la poblacion en municipios se da por mortalidad o por el descenso de las unidades economicas?\n",
    "\n",
    "Otro parametro interesante que se me ocurrió analizar junto con los dos anteriores, es el numero de incidencias que se da por municipio, y esto lo haré con datos de las llamadas al 911 que la seguridad publica del gobierno del estado ofrece en su pagina. \n",
    "\n",
    "Creo que se podría encontrar algo interesante, cuando la poblacion y el desarrollo economico aumenta, ¿tambien lo hace el numero de incidencias?... o podemos encontrar que no tienen relacion alguna, pero encontraremos algo. "
   ]
  },
  {
   "cell_type": "markdown",
   "metadata": {},
   "source": [
    "[enlace a KPI](https://docs.google.com/document/d/1RhgyfsQDtJSJyYLa7COLXmzY67LxJPHUyVeHdNjq3EE/edit?usp=sharing)"
   ]
  },
  {
   "cell_type": "code",
   "execution_count": null,
   "metadata": {},
   "outputs": [],
   "source": []
  }
 ],
 "metadata": {
  "kernelspec": {
   "display_name": "Python 3",
   "language": "python",
   "name": "python3"
  },
  "language_info": {
   "codemirror_mode": {
    "name": "ipython",
    "version": 3
   },
   "file_extension": ".py",
   "mimetype": "text/x-python",
   "name": "python",
   "nbconvert_exporter": "python",
   "pygments_lexer": "ipython3",
   "version": "3.6.2"
  }
 },
 "nbformat": 4,
 "nbformat_minor": 4
}
